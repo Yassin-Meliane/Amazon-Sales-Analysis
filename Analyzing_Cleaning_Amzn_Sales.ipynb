{
 "cells": [
  {
   "cell_type": "markdown",
   "id": "72e5c664-5141-446b-aaf7-b272247f2684",
   "metadata": {},
   "source": [
    "# Importing pandas & Loading dataset"
   ]
  },
  {
   "cell_type": "code",
   "execution_count": 5,
   "id": "9225005b-249d-4dd9-952f-f0516c0a064f",
   "metadata": {},
   "outputs": [],
   "source": [
    "import pandas as pd"
   ]
  },
  {
   "cell_type": "code",
   "execution_count": 8,
   "id": "079a52f6-c66b-40e8-890c-acd30a36c3fb",
   "metadata": {},
   "outputs": [],
   "source": [
    "# Loading the csv file with pandas"
   ]
  },
  {
   "cell_type": "code",
   "execution_count": 12,
   "id": "e3a37018-eced-4f7a-93ab-3489d77e0d1d",
   "metadata": {},
   "outputs": [
    {
     "name": "stderr",
     "output_type": "stream",
     "text": [
      "/var/folders/qn/xn_qh6qs56g4kyg5vcjpns8r0000gn/T/ipykernel_25368/3823463783.py:1: DtypeWarning: Columns (23) have mixed types. Specify dtype option on import or set low_memory=False.\n",
      "  df = pd.read_csv(\"~/Desktop/IP2/Amazon Sale Report.csv\")\n"
     ]
    }
   ],
   "source": [
    "df = pd.read_csv(\"~/Desktop/IP2/Amazon Sale Report.csv\")"
   ]
  },
  {
   "cell_type": "markdown",
   "id": "0edd2575-3c24-4c14-b5d1-4c51767a1cfa",
   "metadata": {},
   "source": [
    "# Exploring the dataset"
   ]
  },
  {
   "cell_type": "code",
   "execution_count": 20,
   "id": "0c53ab81-c0b4-469c-bd4e-e4ccc42ddc78",
   "metadata": {},
   "outputs": [
    {
     "name": "stdout",
     "output_type": "stream",
     "text": [
      "<class 'pandas.core.frame.DataFrame'>\n",
      "RangeIndex: 128975 entries, 0 to 128974\n",
      "Data columns (total 24 columns):\n",
      " #   Column              Non-Null Count   Dtype  \n",
      "---  ------              --------------   -----  \n",
      " 0   index               128975 non-null  int64  \n",
      " 1   Order ID            128975 non-null  object \n",
      " 2   Date                128975 non-null  object \n",
      " 3   Status              128975 non-null  object \n",
      " 4   Fulfilment          128975 non-null  object \n",
      " 5   Sales Channel       128975 non-null  object \n",
      " 6   ship-service-level  128975 non-null  object \n",
      " 7   Style               128975 non-null  object \n",
      " 8   SKU                 128975 non-null  object \n",
      " 9   Category            128975 non-null  object \n",
      " 10  Size                128975 non-null  object \n",
      " 11  ASIN                128975 non-null  object \n",
      " 12  Courier Status      122103 non-null  object \n",
      " 13  Qty                 128975 non-null  int64  \n",
      " 14  currency            121180 non-null  object \n",
      " 15  Amount              121180 non-null  float64\n",
      " 16  ship-city           128942 non-null  object \n",
      " 17  ship-state          128942 non-null  object \n",
      " 18  ship-postal-code    128942 non-null  float64\n",
      " 19  ship-country        128942 non-null  object \n",
      " 20  promotion-ids       79822 non-null   object \n",
      " 21  B2B                 128975 non-null  bool   \n",
      " 22  fulfilled-by        39277 non-null   object \n",
      " 23  Unnamed: 22         79925 non-null   object \n",
      "dtypes: bool(1), float64(2), int64(2), object(19)\n",
      "memory usage: 22.8+ MB\n"
     ]
    }
   ],
   "source": [
    "# Checking DataTypes & general information\n",
    "df.info()"
   ]
  },
  {
   "cell_type": "code",
   "execution_count": 24,
   "id": "36c799f8-ba7e-49f7-bce1-2ad72f53d4ba",
   "metadata": {},
   "outputs": [
    {
     "data": {
      "text/html": [
       "<div>\n",
       "<style scoped>\n",
       "    .dataframe tbody tr th:only-of-type {\n",
       "        vertical-align: middle;\n",
       "    }\n",
       "\n",
       "    .dataframe tbody tr th {\n",
       "        vertical-align: top;\n",
       "    }\n",
       "\n",
       "    .dataframe thead th {\n",
       "        text-align: right;\n",
       "    }\n",
       "</style>\n",
       "<table border=\"1\" class=\"dataframe\">\n",
       "  <thead>\n",
       "    <tr style=\"text-align: right;\">\n",
       "      <th></th>\n",
       "      <th>index</th>\n",
       "      <th>Order ID</th>\n",
       "      <th>Date</th>\n",
       "      <th>Status</th>\n",
       "      <th>Fulfilment</th>\n",
       "      <th>Sales Channel</th>\n",
       "      <th>ship-service-level</th>\n",
       "      <th>Style</th>\n",
       "      <th>SKU</th>\n",
       "      <th>Category</th>\n",
       "      <th>...</th>\n",
       "      <th>currency</th>\n",
       "      <th>Amount</th>\n",
       "      <th>ship-city</th>\n",
       "      <th>ship-state</th>\n",
       "      <th>ship-postal-code</th>\n",
       "      <th>ship-country</th>\n",
       "      <th>promotion-ids</th>\n",
       "      <th>B2B</th>\n",
       "      <th>fulfilled-by</th>\n",
       "      <th>Unnamed: 22</th>\n",
       "    </tr>\n",
       "  </thead>\n",
       "  <tbody>\n",
       "    <tr>\n",
       "      <th>0</th>\n",
       "      <td>0</td>\n",
       "      <td>405-8078784-5731545</td>\n",
       "      <td>04-30-22</td>\n",
       "      <td>Cancelled</td>\n",
       "      <td>Merchant</td>\n",
       "      <td>Amazon.in</td>\n",
       "      <td>Standard</td>\n",
       "      <td>SET389</td>\n",
       "      <td>SET389-KR-NP-S</td>\n",
       "      <td>Set</td>\n",
       "      <td>...</td>\n",
       "      <td>INR</td>\n",
       "      <td>647.62</td>\n",
       "      <td>MUMBAI</td>\n",
       "      <td>MAHARASHTRA</td>\n",
       "      <td>400081.0</td>\n",
       "      <td>IN</td>\n",
       "      <td>NaN</td>\n",
       "      <td>False</td>\n",
       "      <td>Easy Ship</td>\n",
       "      <td>NaN</td>\n",
       "    </tr>\n",
       "    <tr>\n",
       "      <th>1</th>\n",
       "      <td>1</td>\n",
       "      <td>171-9198151-1101146</td>\n",
       "      <td>04-30-22</td>\n",
       "      <td>Shipped - Delivered to Buyer</td>\n",
       "      <td>Merchant</td>\n",
       "      <td>Amazon.in</td>\n",
       "      <td>Standard</td>\n",
       "      <td>JNE3781</td>\n",
       "      <td>JNE3781-KR-XXXL</td>\n",
       "      <td>kurta</td>\n",
       "      <td>...</td>\n",
       "      <td>INR</td>\n",
       "      <td>406.00</td>\n",
       "      <td>BENGALURU</td>\n",
       "      <td>KARNATAKA</td>\n",
       "      <td>560085.0</td>\n",
       "      <td>IN</td>\n",
       "      <td>Amazon PLCC Free-Financing Universal Merchant ...</td>\n",
       "      <td>False</td>\n",
       "      <td>Easy Ship</td>\n",
       "      <td>NaN</td>\n",
       "    </tr>\n",
       "    <tr>\n",
       "      <th>2</th>\n",
       "      <td>2</td>\n",
       "      <td>404-0687676-7273146</td>\n",
       "      <td>04-30-22</td>\n",
       "      <td>Shipped</td>\n",
       "      <td>Amazon</td>\n",
       "      <td>Amazon.in</td>\n",
       "      <td>Expedited</td>\n",
       "      <td>JNE3371</td>\n",
       "      <td>JNE3371-KR-XL</td>\n",
       "      <td>kurta</td>\n",
       "      <td>...</td>\n",
       "      <td>INR</td>\n",
       "      <td>329.00</td>\n",
       "      <td>NAVI MUMBAI</td>\n",
       "      <td>MAHARASHTRA</td>\n",
       "      <td>410210.0</td>\n",
       "      <td>IN</td>\n",
       "      <td>IN Core Free Shipping 2015/04/08 23-48-5-108</td>\n",
       "      <td>True</td>\n",
       "      <td>NaN</td>\n",
       "      <td>NaN</td>\n",
       "    </tr>\n",
       "    <tr>\n",
       "      <th>3</th>\n",
       "      <td>3</td>\n",
       "      <td>403-9615377-8133951</td>\n",
       "      <td>04-30-22</td>\n",
       "      <td>Cancelled</td>\n",
       "      <td>Merchant</td>\n",
       "      <td>Amazon.in</td>\n",
       "      <td>Standard</td>\n",
       "      <td>J0341</td>\n",
       "      <td>J0341-DR-L</td>\n",
       "      <td>Western Dress</td>\n",
       "      <td>...</td>\n",
       "      <td>INR</td>\n",
       "      <td>753.33</td>\n",
       "      <td>PUDUCHERRY</td>\n",
       "      <td>PUDUCHERRY</td>\n",
       "      <td>605008.0</td>\n",
       "      <td>IN</td>\n",
       "      <td>NaN</td>\n",
       "      <td>False</td>\n",
       "      <td>Easy Ship</td>\n",
       "      <td>NaN</td>\n",
       "    </tr>\n",
       "    <tr>\n",
       "      <th>4</th>\n",
       "      <td>4</td>\n",
       "      <td>407-1069790-7240320</td>\n",
       "      <td>04-30-22</td>\n",
       "      <td>Shipped</td>\n",
       "      <td>Amazon</td>\n",
       "      <td>Amazon.in</td>\n",
       "      <td>Expedited</td>\n",
       "      <td>JNE3671</td>\n",
       "      <td>JNE3671-TU-XXXL</td>\n",
       "      <td>Top</td>\n",
       "      <td>...</td>\n",
       "      <td>INR</td>\n",
       "      <td>574.00</td>\n",
       "      <td>CHENNAI</td>\n",
       "      <td>TAMIL NADU</td>\n",
       "      <td>600073.0</td>\n",
       "      <td>IN</td>\n",
       "      <td>NaN</td>\n",
       "      <td>False</td>\n",
       "      <td>NaN</td>\n",
       "      <td>NaN</td>\n",
       "    </tr>\n",
       "  </tbody>\n",
       "</table>\n",
       "<p>5 rows × 24 columns</p>\n",
       "</div>"
      ],
      "text/plain": [
       "   index             Order ID      Date                        Status  \\\n",
       "0      0  405-8078784-5731545  04-30-22                     Cancelled   \n",
       "1      1  171-9198151-1101146  04-30-22  Shipped - Delivered to Buyer   \n",
       "2      2  404-0687676-7273146  04-30-22                       Shipped   \n",
       "3      3  403-9615377-8133951  04-30-22                     Cancelled   \n",
       "4      4  407-1069790-7240320  04-30-22                       Shipped   \n",
       "\n",
       "  Fulfilment Sales Channel  ship-service-level    Style              SKU  \\\n",
       "0   Merchant      Amazon.in           Standard   SET389   SET389-KR-NP-S   \n",
       "1   Merchant      Amazon.in           Standard  JNE3781  JNE3781-KR-XXXL   \n",
       "2     Amazon      Amazon.in          Expedited  JNE3371    JNE3371-KR-XL   \n",
       "3   Merchant      Amazon.in           Standard    J0341       J0341-DR-L   \n",
       "4     Amazon      Amazon.in          Expedited  JNE3671  JNE3671-TU-XXXL   \n",
       "\n",
       "        Category  ... currency  Amount    ship-city   ship-state  \\\n",
       "0            Set  ...      INR  647.62       MUMBAI  MAHARASHTRA   \n",
       "1          kurta  ...      INR  406.00    BENGALURU    KARNATAKA   \n",
       "2          kurta  ...      INR  329.00  NAVI MUMBAI  MAHARASHTRA   \n",
       "3  Western Dress  ...      INR  753.33   PUDUCHERRY   PUDUCHERRY   \n",
       "4            Top  ...      INR  574.00      CHENNAI   TAMIL NADU   \n",
       "\n",
       "  ship-postal-code  ship-country  \\\n",
       "0         400081.0            IN   \n",
       "1         560085.0            IN   \n",
       "2         410210.0            IN   \n",
       "3         605008.0            IN   \n",
       "4         600073.0            IN   \n",
       "\n",
       "                                       promotion-ids    B2B  fulfilled-by  \\\n",
       "0                                                NaN  False     Easy Ship   \n",
       "1  Amazon PLCC Free-Financing Universal Merchant ...  False     Easy Ship   \n",
       "2       IN Core Free Shipping 2015/04/08 23-48-5-108   True           NaN   \n",
       "3                                                NaN  False     Easy Ship   \n",
       "4                                                NaN  False           NaN   \n",
       "\n",
       "  Unnamed: 22  \n",
       "0         NaN  \n",
       "1         NaN  \n",
       "2         NaN  \n",
       "3         NaN  \n",
       "4         NaN  \n",
       "\n",
       "[5 rows x 24 columns]"
      ]
     },
     "execution_count": 24,
     "metadata": {},
     "output_type": "execute_result"
    }
   ],
   "source": [
    "# Display the first 5 rows of the DataFrame\n",
    "df.head()"
   ]
  },
  {
   "cell_type": "code",
   "execution_count": 27,
   "id": "f7aad277-0239-49e6-bd8c-3b352b3acac1",
   "metadata": {},
   "outputs": [
    {
     "data": {
      "text/plain": [
       "(128975, 24)"
      ]
     },
     "execution_count": 27,
     "metadata": {},
     "output_type": "execute_result"
    }
   ],
   "source": [
    "# Dimension of the Dataset\n",
    "df.shape"
   ]
  },
  {
   "cell_type": "code",
   "execution_count": 31,
   "id": "b145588a-be28-4aa6-a381-901750adb395",
   "metadata": {},
   "outputs": [
    {
     "data": {
      "text/html": [
       "<div>\n",
       "<style scoped>\n",
       "    .dataframe tbody tr th:only-of-type {\n",
       "        vertical-align: middle;\n",
       "    }\n",
       "\n",
       "    .dataframe tbody tr th {\n",
       "        vertical-align: top;\n",
       "    }\n",
       "\n",
       "    .dataframe thead th {\n",
       "        text-align: right;\n",
       "    }\n",
       "</style>\n",
       "<table border=\"1\" class=\"dataframe\">\n",
       "  <thead>\n",
       "    <tr style=\"text-align: right;\">\n",
       "      <th></th>\n",
       "      <th>index</th>\n",
       "      <th>Qty</th>\n",
       "      <th>Amount</th>\n",
       "      <th>ship-postal-code</th>\n",
       "    </tr>\n",
       "  </thead>\n",
       "  <tbody>\n",
       "    <tr>\n",
       "      <th>count</th>\n",
       "      <td>128975.000000</td>\n",
       "      <td>128975.000000</td>\n",
       "      <td>121180.000000</td>\n",
       "      <td>128942.000000</td>\n",
       "    </tr>\n",
       "    <tr>\n",
       "      <th>mean</th>\n",
       "      <td>64487.000000</td>\n",
       "      <td>0.904431</td>\n",
       "      <td>648.561465</td>\n",
       "      <td>463966.236509</td>\n",
       "    </tr>\n",
       "    <tr>\n",
       "      <th>std</th>\n",
       "      <td>37232.019822</td>\n",
       "      <td>0.313354</td>\n",
       "      <td>281.211687</td>\n",
       "      <td>191476.764941</td>\n",
       "    </tr>\n",
       "    <tr>\n",
       "      <th>min</th>\n",
       "      <td>0.000000</td>\n",
       "      <td>0.000000</td>\n",
       "      <td>0.000000</td>\n",
       "      <td>110001.000000</td>\n",
       "    </tr>\n",
       "    <tr>\n",
       "      <th>25%</th>\n",
       "      <td>32243.500000</td>\n",
       "      <td>1.000000</td>\n",
       "      <td>449.000000</td>\n",
       "      <td>382421.000000</td>\n",
       "    </tr>\n",
       "    <tr>\n",
       "      <th>50%</th>\n",
       "      <td>64487.000000</td>\n",
       "      <td>1.000000</td>\n",
       "      <td>605.000000</td>\n",
       "      <td>500033.000000</td>\n",
       "    </tr>\n",
       "    <tr>\n",
       "      <th>75%</th>\n",
       "      <td>96730.500000</td>\n",
       "      <td>1.000000</td>\n",
       "      <td>788.000000</td>\n",
       "      <td>600024.000000</td>\n",
       "    </tr>\n",
       "    <tr>\n",
       "      <th>max</th>\n",
       "      <td>128974.000000</td>\n",
       "      <td>15.000000</td>\n",
       "      <td>5584.000000</td>\n",
       "      <td>989898.000000</td>\n",
       "    </tr>\n",
       "  </tbody>\n",
       "</table>\n",
       "</div>"
      ],
      "text/plain": [
       "               index            Qty         Amount  ship-postal-code\n",
       "count  128975.000000  128975.000000  121180.000000     128942.000000\n",
       "mean    64487.000000       0.904431     648.561465     463966.236509\n",
       "std     37232.019822       0.313354     281.211687     191476.764941\n",
       "min         0.000000       0.000000       0.000000     110001.000000\n",
       "25%     32243.500000       1.000000     449.000000     382421.000000\n",
       "50%     64487.000000       1.000000     605.000000     500033.000000\n",
       "75%     96730.500000       1.000000     788.000000     600024.000000\n",
       "max    128974.000000      15.000000    5584.000000     989898.000000"
      ]
     },
     "execution_count": 31,
     "metadata": {},
     "output_type": "execute_result"
    }
   ],
   "source": [
    "df.describe()"
   ]
  },
  {
   "cell_type": "code",
   "execution_count": 34,
   "id": "e97acb33-bb5d-4778-8b2c-1cc8e4f5ca6c",
   "metadata": {},
   "outputs": [
    {
     "data": {
      "text/plain": [
       "index                     0\n",
       "Order ID                  0\n",
       "Date                      0\n",
       "Status                    0\n",
       "Fulfilment                0\n",
       "Sales Channel             0\n",
       "ship-service-level        0\n",
       "Style                     0\n",
       "SKU                       0\n",
       "Category                  0\n",
       "Size                      0\n",
       "ASIN                      0\n",
       "Courier Status         6872\n",
       "Qty                       0\n",
       "currency               7795\n",
       "Amount                 7795\n",
       "ship-city                33\n",
       "ship-state               33\n",
       "ship-postal-code         33\n",
       "ship-country             33\n",
       "promotion-ids         49153\n",
       "B2B                       0\n",
       "fulfilled-by          89698\n",
       "Unnamed: 22           49050\n",
       "dtype: int64"
      ]
     },
     "execution_count": 34,
     "metadata": {},
     "output_type": "execute_result"
    }
   ],
   "source": [
    "# Display the count of null values\n",
    "df.isnull().sum()"
   ]
  },
  {
   "cell_type": "code",
   "execution_count": 37,
   "id": "6f0de17d-1c0f-41ce-ac7b-b3ac79e9c77e",
   "metadata": {},
   "outputs": [
    {
     "name": "stdout",
     "output_type": "stream",
     "text": [
      "index                  0.000000\n",
      "Order ID               0.000000\n",
      "Date                   0.000000\n",
      "Status                 0.000000\n",
      "Fulfilment             0.000000\n",
      "Sales Channel          0.000000\n",
      "ship-service-level     0.000000\n",
      "Style                  0.000000\n",
      "SKU                    0.000000\n",
      "Category               0.000000\n",
      "Size                   0.000000\n",
      "ASIN                   0.000000\n",
      "Courier Status         5.328164\n",
      "Qty                    0.000000\n",
      "currency               6.043807\n",
      "Amount                 6.043807\n",
      "ship-city              0.025586\n",
      "ship-state             0.025586\n",
      "ship-postal-code       0.025586\n",
      "ship-country           0.025586\n",
      "promotion-ids         38.110487\n",
      "B2B                    0.000000\n",
      "fulfilled-by          69.546811\n",
      "Unnamed: 22           38.030626\n",
      "dtype: float64\n"
     ]
    }
   ],
   "source": [
    "# Calculate the percentage of missing values for each column\n",
    "missing_percentage = df.isnull().mean() * 100\n",
    "\n",
    "# Display the percentage of missing values\n",
    "print(missing_percentage)\n"
   ]
  },
  {
   "cell_type": "code",
   "execution_count": 45,
   "id": "20e8e485-a118-42a8-beaf-40b29e3a2119",
   "metadata": {},
   "outputs": [
    {
     "data": {
      "text/html": [
       "<div>\n",
       "<style scoped>\n",
       "    .dataframe tbody tr th:only-of-type {\n",
       "        vertical-align: middle;\n",
       "    }\n",
       "\n",
       "    .dataframe tbody tr th {\n",
       "        vertical-align: top;\n",
       "    }\n",
       "\n",
       "    .dataframe thead th {\n",
       "        text-align: right;\n",
       "    }\n",
       "</style>\n",
       "<table border=\"1\" class=\"dataframe\">\n",
       "  <thead>\n",
       "    <tr style=\"text-align: right;\">\n",
       "      <th></th>\n",
       "      <th>Count of unique values</th>\n",
       "    </tr>\n",
       "  </thead>\n",
       "  <tbody>\n",
       "    <tr>\n",
       "      <th>index</th>\n",
       "      <td>128975</td>\n",
       "    </tr>\n",
       "    <tr>\n",
       "      <th>Order ID</th>\n",
       "      <td>120378</td>\n",
       "    </tr>\n",
       "    <tr>\n",
       "      <th>Date</th>\n",
       "      <td>91</td>\n",
       "    </tr>\n",
       "    <tr>\n",
       "      <th>Status</th>\n",
       "      <td>13</td>\n",
       "    </tr>\n",
       "    <tr>\n",
       "      <th>Fulfilment</th>\n",
       "      <td>2</td>\n",
       "    </tr>\n",
       "    <tr>\n",
       "      <th>Sales Channel</th>\n",
       "      <td>2</td>\n",
       "    </tr>\n",
       "    <tr>\n",
       "      <th>ship-service-level</th>\n",
       "      <td>2</td>\n",
       "    </tr>\n",
       "    <tr>\n",
       "      <th>Style</th>\n",
       "      <td>1377</td>\n",
       "    </tr>\n",
       "    <tr>\n",
       "      <th>SKU</th>\n",
       "      <td>7195</td>\n",
       "    </tr>\n",
       "    <tr>\n",
       "      <th>Category</th>\n",
       "      <td>9</td>\n",
       "    </tr>\n",
       "    <tr>\n",
       "      <th>Size</th>\n",
       "      <td>11</td>\n",
       "    </tr>\n",
       "    <tr>\n",
       "      <th>ASIN</th>\n",
       "      <td>7190</td>\n",
       "    </tr>\n",
       "    <tr>\n",
       "      <th>Courier Status</th>\n",
       "      <td>3</td>\n",
       "    </tr>\n",
       "    <tr>\n",
       "      <th>Qty</th>\n",
       "      <td>10</td>\n",
       "    </tr>\n",
       "    <tr>\n",
       "      <th>currency</th>\n",
       "      <td>1</td>\n",
       "    </tr>\n",
       "    <tr>\n",
       "      <th>Amount</th>\n",
       "      <td>1410</td>\n",
       "    </tr>\n",
       "    <tr>\n",
       "      <th>ship-city</th>\n",
       "      <td>8955</td>\n",
       "    </tr>\n",
       "    <tr>\n",
       "      <th>ship-state</th>\n",
       "      <td>69</td>\n",
       "    </tr>\n",
       "    <tr>\n",
       "      <th>ship-postal-code</th>\n",
       "      <td>9459</td>\n",
       "    </tr>\n",
       "    <tr>\n",
       "      <th>ship-country</th>\n",
       "      <td>1</td>\n",
       "    </tr>\n",
       "    <tr>\n",
       "      <th>promotion-ids</th>\n",
       "      <td>5787</td>\n",
       "    </tr>\n",
       "    <tr>\n",
       "      <th>B2B</th>\n",
       "      <td>2</td>\n",
       "    </tr>\n",
       "    <tr>\n",
       "      <th>fulfilled-by</th>\n",
       "      <td>1</td>\n",
       "    </tr>\n",
       "    <tr>\n",
       "      <th>Unnamed: 22</th>\n",
       "      <td>1</td>\n",
       "    </tr>\n",
       "  </tbody>\n",
       "</table>\n",
       "</div>"
      ],
      "text/plain": [
       "                    Count of unique values\n",
       "index                               128975\n",
       "Order ID                            120378\n",
       "Date                                    91\n",
       "Status                                  13\n",
       "Fulfilment                               2\n",
       "Sales Channel                            2\n",
       "ship-service-level                       2\n",
       "Style                                 1377\n",
       "SKU                                   7195\n",
       "Category                                 9\n",
       "Size                                    11\n",
       "ASIN                                  7190\n",
       "Courier Status                           3\n",
       "Qty                                     10\n",
       "currency                                 1\n",
       "Amount                                1410\n",
       "ship-city                             8955\n",
       "ship-state                              69\n",
       "ship-postal-code                      9459\n",
       "ship-country                             1\n",
       "promotion-ids                         5787\n",
       "B2B                                      2\n",
       "fulfilled-by                             1\n",
       "Unnamed: 22                              1"
      ]
     },
     "execution_count": 45,
     "metadata": {},
     "output_type": "execute_result"
    }
   ],
   "source": [
    "# Checking the count of unique values in the columns\n",
    "df.nunique().to_frame(name='Count of unique values')"
   ]
  },
  {
   "cell_type": "code",
   "execution_count": 47,
   "id": "b08534a6-f619-4b04-a2a0-35d7d64beaf1",
   "metadata": {},
   "outputs": [
    {
     "data": {
      "text/html": [
       "<div>\n",
       "<style scoped>\n",
       "    .dataframe tbody tr th:only-of-type {\n",
       "        vertical-align: middle;\n",
       "    }\n",
       "\n",
       "    .dataframe tbody tr th {\n",
       "        vertical-align: top;\n",
       "    }\n",
       "\n",
       "    .dataframe thead th {\n",
       "        text-align: right;\n",
       "    }\n",
       "</style>\n",
       "<table border=\"1\" class=\"dataframe\">\n",
       "  <thead>\n",
       "    <tr style=\"text-align: right;\">\n",
       "      <th></th>\n",
       "      <th>Unique Values</th>\n",
       "    </tr>\n",
       "  </thead>\n",
       "  <tbody>\n",
       "    <tr>\n",
       "      <th>index</th>\n",
       "      <td>[0, 1, 2, 3, 4, 5, 6, 7, 8, 9, 10, 11, 12, 13,...</td>\n",
       "    </tr>\n",
       "    <tr>\n",
       "      <th>Order ID</th>\n",
       "      <td>[405-8078784-5731545, 171-9198151-1101146, 404...</td>\n",
       "    </tr>\n",
       "    <tr>\n",
       "      <th>Date</th>\n",
       "      <td>[04-30-22, 04-29-22, 04-28-22, 04-27-22, 04-26...</td>\n",
       "    </tr>\n",
       "    <tr>\n",
       "      <th>Status</th>\n",
       "      <td>[Cancelled, Shipped - Delivered to Buyer, Ship...</td>\n",
       "    </tr>\n",
       "    <tr>\n",
       "      <th>Fulfilment</th>\n",
       "      <td>[Merchant, Amazon]</td>\n",
       "    </tr>\n",
       "    <tr>\n",
       "      <th>Sales Channel</th>\n",
       "      <td>[Amazon.in, Non-Amazon]</td>\n",
       "    </tr>\n",
       "    <tr>\n",
       "      <th>ship-service-level</th>\n",
       "      <td>[Standard, Expedited]</td>\n",
       "    </tr>\n",
       "    <tr>\n",
       "      <th>Style</th>\n",
       "      <td>[SET389, JNE3781, JNE3371, J0341, JNE3671, SET...</td>\n",
       "    </tr>\n",
       "    <tr>\n",
       "      <th>SKU</th>\n",
       "      <td>[SET389-KR-NP-S, JNE3781-KR-XXXL, JNE3371-KR-X...</td>\n",
       "    </tr>\n",
       "    <tr>\n",
       "      <th>Category</th>\n",
       "      <td>[Set, kurta, Western Dress, Top, Ethnic Dress,...</td>\n",
       "    </tr>\n",
       "    <tr>\n",
       "      <th>Size</th>\n",
       "      <td>[S, 3XL, XL, L, XXL, XS, 6XL, M, 4XL, 5XL, Free]</td>\n",
       "    </tr>\n",
       "    <tr>\n",
       "      <th>ASIN</th>\n",
       "      <td>[B09KXVBD7Z, B09K3WFS32, B07WV4JV4D, B099NRCT7...</td>\n",
       "    </tr>\n",
       "    <tr>\n",
       "      <th>Courier Status</th>\n",
       "      <td>[nan, Shipped, Cancelled, Unshipped]</td>\n",
       "    </tr>\n",
       "    <tr>\n",
       "      <th>Qty</th>\n",
       "      <td>[0, 1, 2, 15, 3, 9, 13, 5, 4, 8]</td>\n",
       "    </tr>\n",
       "    <tr>\n",
       "      <th>currency</th>\n",
       "      <td>[INR, nan]</td>\n",
       "    </tr>\n",
       "    <tr>\n",
       "      <th>Amount</th>\n",
       "      <td>[647.62, 406.0, 329.0, 753.33, 574.0, 824.0, 6...</td>\n",
       "    </tr>\n",
       "    <tr>\n",
       "      <th>ship-city</th>\n",
       "      <td>[MUMBAI, BENGALURU, NAVI MUMBAI, PUDUCHERRY, C...</td>\n",
       "    </tr>\n",
       "    <tr>\n",
       "      <th>ship-state</th>\n",
       "      <td>[MAHARASHTRA, KARNATAKA, PUDUCHERRY, TAMIL NAD...</td>\n",
       "    </tr>\n",
       "    <tr>\n",
       "      <th>ship-postal-code</th>\n",
       "      <td>[400081.0, 560085.0, 410210.0, 605008.0, 60007...</td>\n",
       "    </tr>\n",
       "    <tr>\n",
       "      <th>ship-country</th>\n",
       "      <td>[IN, nan]</td>\n",
       "    </tr>\n",
       "    <tr>\n",
       "      <th>promotion-ids</th>\n",
       "      <td>[nan, Amazon PLCC Free-Financing Universal Mer...</td>\n",
       "    </tr>\n",
       "    <tr>\n",
       "      <th>B2B</th>\n",
       "      <td>[False, True]</td>\n",
       "    </tr>\n",
       "    <tr>\n",
       "      <th>fulfilled-by</th>\n",
       "      <td>[Easy Ship, nan]</td>\n",
       "    </tr>\n",
       "    <tr>\n",
       "      <th>Unnamed: 22</th>\n",
       "      <td>[nan, False]</td>\n",
       "    </tr>\n",
       "  </tbody>\n",
       "</table>\n",
       "</div>"
      ],
      "text/plain": [
       "                                                        Unique Values\n",
       "index               [0, 1, 2, 3, 4, 5, 6, 7, 8, 9, 10, 11, 12, 13,...\n",
       "Order ID            [405-8078784-5731545, 171-9198151-1101146, 404...\n",
       "Date                [04-30-22, 04-29-22, 04-28-22, 04-27-22, 04-26...\n",
       "Status              [Cancelled, Shipped - Delivered to Buyer, Ship...\n",
       "Fulfilment                                         [Merchant, Amazon]\n",
       "Sales Channel                                 [Amazon.in, Non-Amazon]\n",
       "ship-service-level                              [Standard, Expedited]\n",
       "Style               [SET389, JNE3781, JNE3371, J0341, JNE3671, SET...\n",
       "SKU                 [SET389-KR-NP-S, JNE3781-KR-XXXL, JNE3371-KR-X...\n",
       "Category            [Set, kurta, Western Dress, Top, Ethnic Dress,...\n",
       "Size                 [S, 3XL, XL, L, XXL, XS, 6XL, M, 4XL, 5XL, Free]\n",
       "ASIN                [B09KXVBD7Z, B09K3WFS32, B07WV4JV4D, B099NRCT7...\n",
       "Courier Status                   [nan, Shipped, Cancelled, Unshipped]\n",
       "Qty                                  [0, 1, 2, 15, 3, 9, 13, 5, 4, 8]\n",
       "currency                                                   [INR, nan]\n",
       "Amount              [647.62, 406.0, 329.0, 753.33, 574.0, 824.0, 6...\n",
       "ship-city           [MUMBAI, BENGALURU, NAVI MUMBAI, PUDUCHERRY, C...\n",
       "ship-state          [MAHARASHTRA, KARNATAKA, PUDUCHERRY, TAMIL NAD...\n",
       "ship-postal-code    [400081.0, 560085.0, 410210.0, 605008.0, 60007...\n",
       "ship-country                                                [IN, nan]\n",
       "promotion-ids       [nan, Amazon PLCC Free-Financing Universal Mer...\n",
       "B2B                                                     [False, True]\n",
       "fulfilled-by                                         [Easy Ship, nan]\n",
       "Unnamed: 22                                              [nan, False]"
      ]
     },
     "execution_count": 47,
     "metadata": {},
     "output_type": "execute_result"
    }
   ],
   "source": [
    "# Checking the unique values in the columns\n",
    "df.apply(pd.unique).to_frame(name='Unique Values')"
   ]
  },
  {
   "cell_type": "markdown",
   "id": "d87984b9-6293-4b39-9333-c8c65f64e084",
   "metadata": {},
   "source": [
    "# Deleting & Cleaning Columns "
   ]
  },
  {
   "cell_type": "markdown",
   "id": "4b02a0db-954f-4cfb-b185-eee27ca2da8f",
   "metadata": {},
   "source": [
    "### Upon review, it has been determined that analyzing the data at the city level would introduce excessive granularity. \n",
    "### Hence, focusing the analysis on the state level is deemed more appropriate for this holistic sales report for India."
   ]
  },
  {
   "cell_type": "code",
   "execution_count": 59,
   "id": "a399c49d-f93f-41a5-8000-1b93a7c23f54",
   "metadata": {},
   "outputs": [],
   "source": [
    "# Drop columns that are deemed unnecessary for the state-level analysis\n",
    "df.drop(columns=[\"ASIN\", \"SKU\", \"index\", \"Style\", \"Order ID\", \"ship-city\", \"Unnamed: 22\", \"fulfilled-by\", \"promotion-ids\"], inplace=True)"
   ]
  },
  {
   "cell_type": "code",
   "execution_count": 62,
   "id": "564bae24-cafa-4597-af89-07343273313d",
   "metadata": {},
   "outputs": [
    {
     "data": {
      "text/plain": [
       "0          Maharashtra\n",
       "1            Karnataka\n",
       "2          Maharashtra\n",
       "3           Puducherry\n",
       "4           Tamil Nadu\n",
       "              ...     \n",
       "128970       Telangana\n",
       "128971         Haryana\n",
       "128972       Telangana\n",
       "128973         Gujarat\n",
       "128974    Chhattisgarh\n",
       "Name: ship-state, Length: 128975, dtype: object"
      ]
     },
     "execution_count": 62,
     "metadata": {},
     "output_type": "execute_result"
    }
   ],
   "source": [
    "# Convert values in 'ship-state' column to title case\n",
    "df[\"ship-state\"] = df[\"ship-state\"].str.title()\n",
    "df[\"ship-state\"]"
   ]
  },
  {
   "cell_type": "code",
   "execution_count": 64,
   "id": "32f251e7-0947-4ab5-bcc1-697fb06caebc",
   "metadata": {},
   "outputs": [
    {
     "data": {
      "text/plain": [
       "Date                     0\n",
       "Status                   0\n",
       "Fulfilment               0\n",
       "Sales Channel            0\n",
       "ship-service-level       0\n",
       "Category                 0\n",
       "Size                     0\n",
       "Courier Status        6872\n",
       "Qty                      0\n",
       "currency              7795\n",
       "Amount                7795\n",
       "ship-state              33\n",
       "ship-postal-code        33\n",
       "ship-country            33\n",
       "B2B                      0\n",
       "dtype: int64"
      ]
     },
     "execution_count": 64,
     "metadata": {},
     "output_type": "execute_result"
    }
   ],
   "source": [
    "# Display the count of null values\n",
    "df.isnull().sum()"
   ]
  },
  {
   "cell_type": "markdown",
   "id": "64c0e2dc-6f53-49a2-818f-8439d4806208",
   "metadata": {},
   "source": [
    "### Given the occurrence of missing values in the Amount column, it is essential to determine whether these gaps are primarily due to canceled orders or if they stem from other contributing factors."
   ]
  },
  {
   "cell_type": "code",
   "execution_count": 71,
   "id": "4ab2e2ca-fdaa-48d6-bf23-c945b06dc6c9",
   "metadata": {},
   "outputs": [
    {
     "name": "stdout",
     "output_type": "stream",
     "text": [
      "Unique 'Status' values where 'Amount' is NaN:\n",
      "['Cancelled' 'Shipped' 'Shipped - Delivered to Buyer' 'Pending'\n",
      " 'Shipped - Returned to Seller' 'Shipping']\n",
      "\n",
      "Unique 'Courier Status' values where 'Amount' is NaN:\n",
      "['Cancelled' nan 'Unshipped']\n",
      "\n",
      "Counts of 'Status' and 'Courier Status' combinations where 'Amount' is NaN:\n",
      "Status     Courier Status\n",
      "Cancelled  Cancelled         5840\n",
      "Shipped    Unshipped          115\n",
      "           Cancelled           93\n",
      "Shipping   Unshipped            8\n",
      "Pending    Cancelled            2\n",
      "Cancelled  Unshipped            1\n",
      "Name: count, dtype: int64\n"
     ]
    }
   ],
   "source": [
    "# Filter the rows where 'Amount' is NaN\n",
    "nan_amount_rows = df[df['Amount'].isna()]\n",
    "\n",
    "# Display the unique values of 'Status' and 'Courier Status' in these rows\n",
    "nan_amount_status = nan_amount_rows['Status'].unique()\n",
    "nan_amount_courier_status = nan_amount_rows['Courier Status'].unique()\n",
    "\n",
    "# Count unique combinations of 'Status' and 'Courier Status'\n",
    "nan_amount_rows_summary = nan_amount_rows[['Status', 'Courier Status']].value_counts()\n",
    "\n",
    "# Display the unique statuses and courier statuses, and the count of these combinations\n",
    "print(\"Unique 'Status' values where 'Amount' is NaN:\")\n",
    "print(nan_amount_status)\n",
    "\n",
    "print(\"\\nUnique 'Courier Status' values where 'Amount' is NaN:\")\n",
    "print(nan_amount_courier_status)\n",
    "\n",
    "print(\"\\nCounts of 'Status' and 'Courier Status' combinations where 'Amount' is NaN:\")\n",
    "print(nan_amount_rows_summary)"
   ]
  },
  {
   "cell_type": "markdown",
   "id": "ef5b43fb-16db-4cf4-86e3-4f0242e310e0",
   "metadata": {},
   "source": [
    "### It has been observed that there is necessary to further investigate the rows where the \"Courier Status\" is Nan"
   ]
  },
  {
   "cell_type": "code",
   "execution_count": 76,
   "id": "268d235e-c978-49a6-b786-f0a493605353",
   "metadata": {},
   "outputs": [
    {
     "name": "stdout",
     "output_type": "stream",
     "text": [
      "Rows with both 'Amount' and 'Courier Status' missing:\n",
      "       Courier Status     ship-state\n",
      "29                NaN          Assam\n",
      "250               NaN      Karnataka\n",
      "563               NaN  Uttar Pradesh\n",
      "672               NaN        Haryana\n",
      "818               NaN      Karnataka\n",
      "...               ...            ...\n",
      "128277            NaN      Karnataka\n",
      "128560            NaN     Tamil Nadu\n",
      "128571            NaN  Uttar Pradesh\n",
      "128808            NaN      Karnataka\n",
      "128855            NaN         Kerala\n",
      "\n",
      "[1736 rows x 2 columns]\n"
     ]
    }
   ],
   "source": [
    "# Filter rows where both 'Amount' and 'Courier Status' are NaN\n",
    "nan_amount_nan_courier_status_rows = df[df['Amount'].isna() & df['Courier Status'].isna()]\n",
    "\n",
    "# Display relevant information\n",
    "print(\"Rows with both 'Amount' and 'Courier Status' missing:\")\n",
    "print(nan_amount_nan_courier_status_rows[['Courier Status', 'ship-state']])"
   ]
  },
  {
   "cell_type": "code",
   "execution_count": 80,
   "id": "e4764360-a4d4-4747-8a2a-2038141306ac",
   "metadata": {},
   "outputs": [
    {
     "name": "stdout",
     "output_type": "stream",
     "text": [
      "Summary of 'Amount' where 'Courier Status' is NaN:\n",
      "Amount\n",
      "False    5136\n",
      "True     1736\n",
      "Name: count, dtype: int64\n"
     ]
    }
   ],
   "source": [
    "# Filter rows where 'Courier Status' is NaN\n",
    "nan_courier_status_rows = df[df['Courier Status'].isna()]\n",
    "\n",
    "# Check if these rows have NaN in 'Amount' or if they have non-NaN values\n",
    "nan_courier_status_amount_summary = nan_courier_status_rows['Amount'].isna().value_counts()\n",
    "\n",
    "# Display the summary\n",
    "print(\"Summary of 'Amount' where 'Courier Status' is NaN:\")\n",
    "print(nan_courier_status_amount_summary)"
   ]
  },
  {
   "cell_type": "code",
   "execution_count": 83,
   "id": "6d02d602-8451-48b7-aebd-2fb920e9232a",
   "metadata": {},
   "outputs": [
    {
     "name": "stdout",
     "output_type": "stream",
     "text": [
      "Distribution of missing 'Amount' and 'Courier Status' by 'ship-state':\n",
      "ship-state\n",
      "Maharashtra           239\n",
      "Karnataka             232\n",
      "Uttar Pradesh         189\n",
      "Telangana             156\n",
      "Tamil Nadu            134\n",
      "Kerala                108\n",
      "Delhi                  91\n",
      "West Bengal            85\n",
      "Andhra Pradesh         82\n",
      "Gujarat                53\n",
      "Madhya Pradesh         47\n",
      "Rajasthan              43\n",
      "Haryana                37\n",
      "Assam                  35\n",
      "Jharkhand              27\n",
      "Punjab                 27\n",
      "Uttarakhand            24\n",
      "Bihar                  23\n",
      "Himachal Pradesh       18\n",
      "Odisha                 18\n",
      "Jammu & Kashmir        14\n",
      "Goa                    13\n",
      "Chhattisgarh           11\n",
      "Tripura                 5\n",
      "Dadra And Nagar         4\n",
      "Arunachal Pradesh       3\n",
      "Manipur                 3\n",
      "Sikkim                  3\n",
      "Mizoram                 2\n",
      "Meghalaya               2\n",
      "Chandigarh              2\n",
      "Andaman & Nicobar       2\n",
      "Puducherry              2\n",
      "New Delhi               1\n",
      "Nagaland                1\n",
      "Name: count, dtype: int64\n"
     ]
    }
   ],
   "source": [
    "# Additional exploration to understand the distribution of missing values\n",
    "missing_amount_courier_status_summary = nan_amount_nan_courier_status_rows['ship-state'].value_counts()\n",
    "\n",
    "print(\"Distribution of missing 'Amount' and 'Courier Status' by 'ship-state':\")\n",
    "print(missing_amount_courier_status_summary)"
   ]
  },
  {
   "cell_type": "code",
   "execution_count": 86,
   "id": "f9e999c0-c094-4006-a978-acbde8b1c1ad",
   "metadata": {},
   "outputs": [
    {
     "name": "stdout",
     "output_type": "stream",
     "text": [
      "Distribution of missing 'Amount' and 'Courier Status' by 'Status':\n",
      "Status\n",
      "Cancelled                       1725\n",
      "Shipped - Delivered to Buyer       8\n",
      "Shipped - Returned to Seller       3\n",
      "Name: count, dtype: int64\n"
     ]
    }
   ],
   "source": [
    "# Analyze Distribution of 'Status' for Rows with Missing 'Amount' and 'Courier Status'\n",
    "missing_amount_courier_status_status_summary = nan_amount_nan_courier_status_rows['Status'].value_counts()\n",
    "\n",
    "print(\"Distribution of missing 'Amount' and 'Courier Status' by 'Status':\")\n",
    "print(missing_amount_courier_status_status_summary)"
   ]
  },
  {
   "cell_type": "code",
   "execution_count": 91,
   "id": "c3fc74e1-07ff-4708-a6c8-e73257fab67c",
   "metadata": {},
   "outputs": [
    {
     "name": "stdout",
     "output_type": "stream",
     "text": [
      "Empty DataFrame\n",
      "Columns: [Date, Status, Fulfilment, Sales Channel , ship-service-level, Category, Size, Courier Status, Qty, currency, Amount, ship-state, ship-postal-code, ship-country, B2B]\n",
      "Index: []\n"
     ]
    }
   ],
   "source": [
    "# Filtering on the 8 suspect rows where \"Status\" is \"Shipped - Delivered to Buyer\"\n",
    "filtered_df = df[(df['Status'] == 'Shipped - Delivered to Buyer') &\n",
    "                 (df['Qty'] == 0.0) &\n",
    "                 (df['Amount'] == 0.0) &\n",
    "                 (pd.isna(df['Courier Status']))]\n",
    "\n",
    "# Display the result\n",
    "print(filtered_df)\n"
   ]
  },
  {
   "cell_type": "markdown",
   "id": "a0b277b3-8dd0-4daf-bbc4-5406f5fd5df1",
   "metadata": {},
   "source": [
    "#### For some reason is my Dataframe empty "
   ]
  },
  {
   "cell_type": "markdown",
   "id": "10e0193f-7c09-4188-b5be-25e20be43e0a",
   "metadata": {},
   "source": [
    "-------------------------------------------------------------------------------------------------------------------"
   ]
  },
  {
   "cell_type": "markdown",
   "id": "0d952b0c-d158-4dfa-8781-295b48f685ed",
   "metadata": {},
   "source": [
    "# Based on these rows, we can draw several important conclusions regarding the inconsistencies in the data:\n",
    "\n",
    "#### All the rows have \"Shipped - Delivered to Buyer\" as status, meaning that the items were reportedly delivered to the customer. However, the \"Courier Status\" is marked as NaN. This raises a red flag because the courier status should provide information on the shipment progress. The absence of this information indicates that there is either a gap in the tracking system or incomplete data entry.\n",
    "\n",
    "#### For all the rows, the quantity is listed as 0, and the amount is also 0. This is unusual, as it tells us no products were sold or shipped according to these columns, despite the \"Shipped - Delivered to Buyer\" status. This could indicate a data error or inconsistency in the order management system.\n",
    "\n",
    "#### From a business perspective, these rows need further investigation to ensure accuracy. If the records represent actual sales, then the missing data (amount, quantity, courier status) could lead to incorrect financial reporting. Alternatively, if these are invalid or canceled orders, they should be cleaned from the dataset to prevent skewed analysis.\n"
   ]
  },
  {
   "cell_type": "markdown",
   "id": "35113a8b-5b66-4fc5-9822-db50e195411b",
   "metadata": {},
   "source": [
    "------------------------------------------------------------------------------------------------------------------------------------------------"
   ]
  },
  {
   "cell_type": "code",
   "execution_count": 113,
   "id": "aecae64e-bbdd-4e57-a26c-4e04ad3a52a9",
   "metadata": {},
   "outputs": [
    {
     "data": {
      "text/plain": [
       "array(['Cancelled', 'Shipped - Delivered to Buyer', 'Shipped',\n",
       "       'Shipped - Returned to Seller', 'Shipped - Rejected by Buyer',\n",
       "       'Shipped - Lost in Transit', 'Shipped - Out for Delivery',\n",
       "       'Shipped - Returning to Seller', 'Shipped - Picked Up', 'Pending',\n",
       "       'Pending - Waiting for Pick Up', 'Shipped - Damaged', 'Shipping'],\n",
       "      dtype=object)"
      ]
     },
     "execution_count": 113,
     "metadata": {},
     "output_type": "execute_result"
    }
   ],
   "source": [
    "df[\"Status\"].unique()"
   ]
  },
  {
   "cell_type": "markdown",
   "id": "51494744-fed9-401d-9171-3471c2df72cc",
   "metadata": {},
   "source": [
    "### Standardizing \"Status\" Values and Renaming \"Qty\" Column for Clarity"
   ]
  },
  {
   "cell_type": "code",
   "execution_count": 117,
   "id": "b1ca93f6-6726-48be-a24e-ceddf29732f1",
   "metadata": {},
   "outputs": [],
   "source": [
    "# Replacing values in the 'Status' column\n",
    "df['Status'] = df['Status'].replace({\n",
    "    'Shipping': 'Shipped',\n",
    "    'Shipped - Returning to Seller': 'Shipped - Returned to Seller'\n",
    "})\n",
    "\n",
    "# Rename the 'Qty' column to 'Quantity'\n",
    "df = df.rename(columns={\n",
    "    'Qty': 'Quantity'\n",
    "})"
   ]
  },
  {
   "cell_type": "code",
   "execution_count": null,
   "id": "0870872d-407a-47c7-bd8a-f5db1acdf687",
   "metadata": {},
   "outputs": [],
   "source": [
    "# Verifying the Renaming of \"Qty\" Column\n",
    "df.head()"
   ]
  },
  {
   "cell_type": "code",
   "execution_count": 123,
   "id": "b1a92976-2cb4-4e53-a4c7-1faac80bc9b6",
   "metadata": {},
   "outputs": [
    {
     "data": {
      "text/plain": [
       "array(['Cancelled', 'Shipped - Delivered to Buyer', 'Shipped',\n",
       "       'Shipped - Returned to Seller', 'Shipped - Rejected by Buyer',\n",
       "       'Shipped - Lost in Transit', 'Shipped - Out for Delivery',\n",
       "       'Shipped - Picked Up', 'Pending', 'Pending - Waiting for Pick Up',\n",
       "       'Shipped - Damaged'], dtype=object)"
      ]
     },
     "execution_count": 123,
     "metadata": {},
     "output_type": "execute_result"
    }
   ],
   "source": [
    "# Verifying the standardizing of values in the \"Status\" Column\n",
    "df[\"Status\"].unique()"
   ]
  },
  {
   "cell_type": "code",
   "execution_count": 126,
   "id": "b87e1231-9b64-4458-b289-2ee2eea84349",
   "metadata": {},
   "outputs": [
    {
     "data": {
      "text/plain": [
       "array(['INR'], dtype=object)"
      ]
     },
     "execution_count": 126,
     "metadata": {},
     "output_type": "execute_result"
    }
   ],
   "source": [
    "# Replace NaN values with 'INR' in the 'currency' column\n",
    "df['currency'].fillna('INR', inplace=True)\n",
    "\n",
    "# Check the unique values to confirm the replacement\n",
    "df['currency'].unique()"
   ]
  },
  {
   "cell_type": "code",
   "execution_count": 133,
   "id": "5fcb0649-760c-46b7-9c68-c4853470ca55",
   "metadata": {},
   "outputs": [
    {
     "data": {
      "text/html": [
       "<div>\n",
       "<style scoped>\n",
       "    .dataframe tbody tr th:only-of-type {\n",
       "        vertical-align: middle;\n",
       "    }\n",
       "\n",
       "    .dataframe tbody tr th {\n",
       "        vertical-align: top;\n",
       "    }\n",
       "\n",
       "    .dataframe thead th {\n",
       "        text-align: right;\n",
       "    }\n",
       "</style>\n",
       "<table border=\"1\" class=\"dataframe\">\n",
       "  <thead>\n",
       "    <tr style=\"text-align: right;\">\n",
       "      <th></th>\n",
       "      <th>Date</th>\n",
       "      <th>Status</th>\n",
       "      <th>Fulfilment</th>\n",
       "      <th>Sales Channel</th>\n",
       "      <th>ship-service-level</th>\n",
       "      <th>Category</th>\n",
       "      <th>Size</th>\n",
       "      <th>Courier Status</th>\n",
       "      <th>Quantity</th>\n",
       "      <th>currency</th>\n",
       "      <th>Amount</th>\n",
       "      <th>ship-state</th>\n",
       "      <th>ship-postal-code</th>\n",
       "      <th>ship-country</th>\n",
       "      <th>B2B</th>\n",
       "    </tr>\n",
       "  </thead>\n",
       "  <tbody>\n",
       "    <tr>\n",
       "      <th>0</th>\n",
       "      <td>04-30-22</td>\n",
       "      <td>Cancelled</td>\n",
       "      <td>Merchant</td>\n",
       "      <td>Amazon.in</td>\n",
       "      <td>Standard</td>\n",
       "      <td>Set</td>\n",
       "      <td>S</td>\n",
       "      <td>NaN</td>\n",
       "      <td>0</td>\n",
       "      <td>INR</td>\n",
       "      <td>647.62</td>\n",
       "      <td>Maharashtra</td>\n",
       "      <td>400081.0</td>\n",
       "      <td>IN</td>\n",
       "      <td>False</td>\n",
       "    </tr>\n",
       "    <tr>\n",
       "      <th>1</th>\n",
       "      <td>04-30-22</td>\n",
       "      <td>Shipped - Delivered to Buyer</td>\n",
       "      <td>Merchant</td>\n",
       "      <td>Amazon.in</td>\n",
       "      <td>Standard</td>\n",
       "      <td>kurta</td>\n",
       "      <td>3XL</td>\n",
       "      <td>Shipped</td>\n",
       "      <td>1</td>\n",
       "      <td>INR</td>\n",
       "      <td>406.00</td>\n",
       "      <td>Karnataka</td>\n",
       "      <td>560085.0</td>\n",
       "      <td>IN</td>\n",
       "      <td>False</td>\n",
       "    </tr>\n",
       "    <tr>\n",
       "      <th>2</th>\n",
       "      <td>04-30-22</td>\n",
       "      <td>Shipped</td>\n",
       "      <td>Amazon</td>\n",
       "      <td>Amazon.in</td>\n",
       "      <td>Expedited</td>\n",
       "      <td>kurta</td>\n",
       "      <td>XL</td>\n",
       "      <td>Shipped</td>\n",
       "      <td>1</td>\n",
       "      <td>INR</td>\n",
       "      <td>329.00</td>\n",
       "      <td>Maharashtra</td>\n",
       "      <td>410210.0</td>\n",
       "      <td>IN</td>\n",
       "      <td>True</td>\n",
       "    </tr>\n",
       "    <tr>\n",
       "      <th>3</th>\n",
       "      <td>04-30-22</td>\n",
       "      <td>Cancelled</td>\n",
       "      <td>Merchant</td>\n",
       "      <td>Amazon.in</td>\n",
       "      <td>Standard</td>\n",
       "      <td>Western Dress</td>\n",
       "      <td>L</td>\n",
       "      <td>NaN</td>\n",
       "      <td>0</td>\n",
       "      <td>INR</td>\n",
       "      <td>753.33</td>\n",
       "      <td>Puducherry</td>\n",
       "      <td>605008.0</td>\n",
       "      <td>IN</td>\n",
       "      <td>False</td>\n",
       "    </tr>\n",
       "    <tr>\n",
       "      <th>4</th>\n",
       "      <td>04-30-22</td>\n",
       "      <td>Shipped</td>\n",
       "      <td>Amazon</td>\n",
       "      <td>Amazon.in</td>\n",
       "      <td>Expedited</td>\n",
       "      <td>Top</td>\n",
       "      <td>3XL</td>\n",
       "      <td>Shipped</td>\n",
       "      <td>1</td>\n",
       "      <td>INR</td>\n",
       "      <td>574.00</td>\n",
       "      <td>Tamil Nadu</td>\n",
       "      <td>600073.0</td>\n",
       "      <td>IN</td>\n",
       "      <td>False</td>\n",
       "    </tr>\n",
       "  </tbody>\n",
       "</table>\n",
       "</div>"
      ],
      "text/plain": [
       "       Date                        Status Fulfilment Sales Channel   \\\n",
       "0  04-30-22                     Cancelled   Merchant      Amazon.in   \n",
       "1  04-30-22  Shipped - Delivered to Buyer   Merchant      Amazon.in   \n",
       "2  04-30-22                       Shipped     Amazon      Amazon.in   \n",
       "3  04-30-22                     Cancelled   Merchant      Amazon.in   \n",
       "4  04-30-22                       Shipped     Amazon      Amazon.in   \n",
       "\n",
       "  ship-service-level       Category Size Courier Status  Quantity currency  \\\n",
       "0           Standard            Set    S            NaN         0      INR   \n",
       "1           Standard          kurta  3XL        Shipped         1      INR   \n",
       "2          Expedited          kurta   XL        Shipped         1      INR   \n",
       "3           Standard  Western Dress    L            NaN         0      INR   \n",
       "4          Expedited            Top  3XL        Shipped         1      INR   \n",
       "\n",
       "   Amount   ship-state  ship-postal-code ship-country    B2B  \n",
       "0  647.62  Maharashtra          400081.0           IN  False  \n",
       "1  406.00    Karnataka          560085.0           IN  False  \n",
       "2  329.00  Maharashtra          410210.0           IN   True  \n",
       "3  753.33   Puducherry          605008.0           IN  False  \n",
       "4  574.00   Tamil Nadu          600073.0           IN  False  "
      ]
     },
     "execution_count": 133,
     "metadata": {},
     "output_type": "execute_result"
    }
   ],
   "source": [
    "df.head()"
   ]
  },
  {
   "cell_type": "markdown",
   "id": "eedc0167-fce3-4ca7-9412-6ee3d8fa8c40",
   "metadata": {},
   "source": [
    "# Observed in row 3 that \"Status\" is marked as \"Cancelled,\" \"Courier Status\" is missing (NaN), \"Quantity\" is 0, but \"Amount\" is recorded as 753.33\n",
    "## These amounts may distort the data. It's unclear whether the payment has been received, has already been refunded, or is pending a refund.\n",
    "\n",
    "## Its decided that when \n",
    "#### - Status = \"Cancelled\"\n",
    "#### - Courier Status is NaN, \n",
    "#### - Quantity = 0\n",
    "#### - Amount > 0\n",
    "\n",
    "### These data entries will be excluded from the analysis. This decision is based on the inability to confidently verify whether these amounts represent actual revenue. \n",
    "### I would suggest conducting a root cause analysis in a real-life scenario based on these specific inconsistencies"
   ]
  },
  {
   "cell_type": "code",
   "execution_count": 161,
   "id": "133ca330-0338-46fa-b7ec-84db218ecd0d",
   "metadata": {},
   "outputs": [],
   "source": [
    "# Creating a variable in order to varify if the loop was succesfull\n",
    "before_update_amount = df[(df['Status'] == 'Cancelled') &\n",
    "                                   (df['Courier Status'].isna()) &\n",
    "                                   (df['Quantity'] == 0) &\n",
    "                                   (df['Amount'] > 0)].shape[0]"
   ]
  },
  {
   "cell_type": "code",
   "execution_count": 155,
   "id": "24702b0b-e8c7-4752-ac8c-ac519a31fe5b",
   "metadata": {},
   "outputs": [
    {
     "data": {
      "text/plain": [
       "5136"
      ]
     },
     "execution_count": 155,
     "metadata": {},
     "output_type": "execute_result"
    }
   ],
   "source": [
    "before_update_amount"
   ]
  },
  {
   "cell_type": "code",
   "execution_count": 157,
   "id": "7bf78f4c-b173-4664-a504-07e736474cff",
   "metadata": {},
   "outputs": [],
   "source": [
    "# Loop to replace the amount based on these 4 condition \n",
    "for index, row in df.iterrows():\n",
    "    if (row['Status'] == 'Cancelled' and\n",
    "        pd.isna(row['Courier Status']) and\n",
    "        row['Quantity'] == 0 and\n",
    "        row['Amount'] > 0):\n",
    "        df.at[index, 'Amount'] = 0"
   ]
  },
  {
   "cell_type": "code",
   "execution_count": 163,
   "id": "27a04f68-42e3-47f5-ab0e-290b7c13d455",
   "metadata": {},
   "outputs": [
    {
     "data": {
      "text/plain": [
       "0"
      ]
     },
     "execution_count": 163,
     "metadata": {},
     "output_type": "execute_result"
    }
   ],
   "source": [
    "# Verifying that the loop worked\n",
    "after_update_amount = df[(df['Status'] == 'Cancelled') &\n",
    "                                  (df['Courier Status'].isna()) &\n",
    "                                  (df['Quantity'] == 0) &\n",
    "                                  (df['Amount'] > 0)].shape[0]\n",
    "after_update_amount"
   ]
  },
  {
   "cell_type": "code",
   "execution_count": 166,
   "id": "93c379a0-7b93-48d2-a854-6d6791491a03",
   "metadata": {},
   "outputs": [
    {
     "data": {
      "text/html": [
       "<div>\n",
       "<style scoped>\n",
       "    .dataframe tbody tr th:only-of-type {\n",
       "        vertical-align: middle;\n",
       "    }\n",
       "\n",
       "    .dataframe tbody tr th {\n",
       "        vertical-align: top;\n",
       "    }\n",
       "\n",
       "    .dataframe thead th {\n",
       "        text-align: right;\n",
       "    }\n",
       "</style>\n",
       "<table border=\"1\" class=\"dataframe\">\n",
       "  <thead>\n",
       "    <tr style=\"text-align: right;\">\n",
       "      <th></th>\n",
       "      <th>Date</th>\n",
       "      <th>Status</th>\n",
       "      <th>Fulfilment</th>\n",
       "      <th>Sales Channel</th>\n",
       "      <th>ship-service-level</th>\n",
       "      <th>Category</th>\n",
       "      <th>Size</th>\n",
       "      <th>Courier Status</th>\n",
       "      <th>Quantity</th>\n",
       "      <th>currency</th>\n",
       "      <th>Amount</th>\n",
       "      <th>ship-state</th>\n",
       "      <th>ship-postal-code</th>\n",
       "      <th>ship-country</th>\n",
       "      <th>B2B</th>\n",
       "    </tr>\n",
       "  </thead>\n",
       "  <tbody>\n",
       "    <tr>\n",
       "      <th>0</th>\n",
       "      <td>04-30-22</td>\n",
       "      <td>Cancelled</td>\n",
       "      <td>Merchant</td>\n",
       "      <td>Amazon.in</td>\n",
       "      <td>Standard</td>\n",
       "      <td>Set</td>\n",
       "      <td>S</td>\n",
       "      <td>NaN</td>\n",
       "      <td>0</td>\n",
       "      <td>INR</td>\n",
       "      <td>0.0</td>\n",
       "      <td>Maharashtra</td>\n",
       "      <td>400081.0</td>\n",
       "      <td>IN</td>\n",
       "      <td>False</td>\n",
       "    </tr>\n",
       "    <tr>\n",
       "      <th>1</th>\n",
       "      <td>04-30-22</td>\n",
       "      <td>Shipped - Delivered to Buyer</td>\n",
       "      <td>Merchant</td>\n",
       "      <td>Amazon.in</td>\n",
       "      <td>Standard</td>\n",
       "      <td>kurta</td>\n",
       "      <td>3XL</td>\n",
       "      <td>Shipped</td>\n",
       "      <td>1</td>\n",
       "      <td>INR</td>\n",
       "      <td>406.0</td>\n",
       "      <td>Karnataka</td>\n",
       "      <td>560085.0</td>\n",
       "      <td>IN</td>\n",
       "      <td>False</td>\n",
       "    </tr>\n",
       "    <tr>\n",
       "      <th>2</th>\n",
       "      <td>04-30-22</td>\n",
       "      <td>Shipped</td>\n",
       "      <td>Amazon</td>\n",
       "      <td>Amazon.in</td>\n",
       "      <td>Expedited</td>\n",
       "      <td>kurta</td>\n",
       "      <td>XL</td>\n",
       "      <td>Shipped</td>\n",
       "      <td>1</td>\n",
       "      <td>INR</td>\n",
       "      <td>329.0</td>\n",
       "      <td>Maharashtra</td>\n",
       "      <td>410210.0</td>\n",
       "      <td>IN</td>\n",
       "      <td>True</td>\n",
       "    </tr>\n",
       "    <tr>\n",
       "      <th>3</th>\n",
       "      <td>04-30-22</td>\n",
       "      <td>Cancelled</td>\n",
       "      <td>Merchant</td>\n",
       "      <td>Amazon.in</td>\n",
       "      <td>Standard</td>\n",
       "      <td>Western Dress</td>\n",
       "      <td>L</td>\n",
       "      <td>NaN</td>\n",
       "      <td>0</td>\n",
       "      <td>INR</td>\n",
       "      <td>0.0</td>\n",
       "      <td>Puducherry</td>\n",
       "      <td>605008.0</td>\n",
       "      <td>IN</td>\n",
       "      <td>False</td>\n",
       "    </tr>\n",
       "    <tr>\n",
       "      <th>4</th>\n",
       "      <td>04-30-22</td>\n",
       "      <td>Shipped</td>\n",
       "      <td>Amazon</td>\n",
       "      <td>Amazon.in</td>\n",
       "      <td>Expedited</td>\n",
       "      <td>Top</td>\n",
       "      <td>3XL</td>\n",
       "      <td>Shipped</td>\n",
       "      <td>1</td>\n",
       "      <td>INR</td>\n",
       "      <td>574.0</td>\n",
       "      <td>Tamil Nadu</td>\n",
       "      <td>600073.0</td>\n",
       "      <td>IN</td>\n",
       "      <td>False</td>\n",
       "    </tr>\n",
       "  </tbody>\n",
       "</table>\n",
       "</div>"
      ],
      "text/plain": [
       "       Date                        Status Fulfilment Sales Channel   \\\n",
       "0  04-30-22                     Cancelled   Merchant      Amazon.in   \n",
       "1  04-30-22  Shipped - Delivered to Buyer   Merchant      Amazon.in   \n",
       "2  04-30-22                       Shipped     Amazon      Amazon.in   \n",
       "3  04-30-22                     Cancelled   Merchant      Amazon.in   \n",
       "4  04-30-22                       Shipped     Amazon      Amazon.in   \n",
       "\n",
       "  ship-service-level       Category Size Courier Status  Quantity currency  \\\n",
       "0           Standard            Set    S            NaN         0      INR   \n",
       "1           Standard          kurta  3XL        Shipped         1      INR   \n",
       "2          Expedited          kurta   XL        Shipped         1      INR   \n",
       "3           Standard  Western Dress    L            NaN         0      INR   \n",
       "4          Expedited            Top  3XL        Shipped         1      INR   \n",
       "\n",
       "   Amount   ship-state  ship-postal-code ship-country    B2B  \n",
       "0     0.0  Maharashtra          400081.0           IN  False  \n",
       "1   406.0    Karnataka          560085.0           IN  False  \n",
       "2   329.0  Maharashtra          410210.0           IN   True  \n",
       "3     0.0   Puducherry          605008.0           IN  False  \n",
       "4   574.0   Tamil Nadu          600073.0           IN  False  "
      ]
     },
     "execution_count": 166,
     "metadata": {},
     "output_type": "execute_result"
    }
   ],
   "source": [
    "df.head()"
   ]
  },
  {
   "cell_type": "code",
   "execution_count": 169,
   "id": "b6aa8362-ef00-4bab-9bb5-1a8c6454cd86",
   "metadata": {},
   "outputs": [
    {
     "data": {
      "text/plain": [
       "Date                     0\n",
       "Status                   0\n",
       "Fulfilment               0\n",
       "Sales Channel            0\n",
       "ship-service-level       0\n",
       "Category                 0\n",
       "Size                     0\n",
       "Courier Status        6872\n",
       "Quantity                 0\n",
       "currency                 0\n",
       "Amount                7795\n",
       "ship-state              33\n",
       "ship-postal-code        33\n",
       "ship-country            33\n",
       "B2B                      0\n",
       "dtype: int64"
      ]
     },
     "execution_count": 169,
     "metadata": {},
     "output_type": "execute_result"
    }
   ],
   "source": [
    "df.isnull().sum()"
   ]
  },
  {
   "cell_type": "code",
   "execution_count": 171,
   "id": "c2fa5838-48f9-4518-a26e-64ff55956a88",
   "metadata": {},
   "outputs": [
    {
     "data": {
      "text/html": [
       "<div>\n",
       "<style scoped>\n",
       "    .dataframe tbody tr th:only-of-type {\n",
       "        vertical-align: middle;\n",
       "    }\n",
       "\n",
       "    .dataframe tbody tr th {\n",
       "        vertical-align: top;\n",
       "    }\n",
       "\n",
       "    .dataframe thead th {\n",
       "        text-align: right;\n",
       "    }\n",
       "</style>\n",
       "<table border=\"1\" class=\"dataframe\">\n",
       "  <thead>\n",
       "    <tr style=\"text-align: right;\">\n",
       "      <th></th>\n",
       "      <th>Date</th>\n",
       "      <th>Status</th>\n",
       "      <th>Fulfilment</th>\n",
       "      <th>Sales Channel</th>\n",
       "      <th>Ship-Service-Level</th>\n",
       "      <th>Category</th>\n",
       "      <th>Size</th>\n",
       "      <th>Courier Status</th>\n",
       "      <th>Quantity</th>\n",
       "      <th>Currency</th>\n",
       "      <th>Amount</th>\n",
       "      <th>Ship-State</th>\n",
       "      <th>Ship-Postal-Code</th>\n",
       "      <th>Ship-Country</th>\n",
       "      <th>B2B</th>\n",
       "    </tr>\n",
       "  </thead>\n",
       "  <tbody>\n",
       "    <tr>\n",
       "      <th>0</th>\n",
       "      <td>04-30-22</td>\n",
       "      <td>Cancelled</td>\n",
       "      <td>Merchant</td>\n",
       "      <td>Amazon.in</td>\n",
       "      <td>Standard</td>\n",
       "      <td>Set</td>\n",
       "      <td>S</td>\n",
       "      <td>Unknown</td>\n",
       "      <td>0</td>\n",
       "      <td>INR</td>\n",
       "      <td>0.0</td>\n",
       "      <td>Maharashtra</td>\n",
       "      <td>400081.0</td>\n",
       "      <td>IN</td>\n",
       "      <td>False</td>\n",
       "    </tr>\n",
       "    <tr>\n",
       "      <th>1</th>\n",
       "      <td>04-30-22</td>\n",
       "      <td>Shipped - Delivered to Buyer</td>\n",
       "      <td>Merchant</td>\n",
       "      <td>Amazon.in</td>\n",
       "      <td>Standard</td>\n",
       "      <td>kurta</td>\n",
       "      <td>3XL</td>\n",
       "      <td>Shipped</td>\n",
       "      <td>1</td>\n",
       "      <td>INR</td>\n",
       "      <td>406.0</td>\n",
       "      <td>Karnataka</td>\n",
       "      <td>560085.0</td>\n",
       "      <td>IN</td>\n",
       "      <td>False</td>\n",
       "    </tr>\n",
       "    <tr>\n",
       "      <th>2</th>\n",
       "      <td>04-30-22</td>\n",
       "      <td>Shipped</td>\n",
       "      <td>Amazon</td>\n",
       "      <td>Amazon.in</td>\n",
       "      <td>Expedited</td>\n",
       "      <td>kurta</td>\n",
       "      <td>XL</td>\n",
       "      <td>Shipped</td>\n",
       "      <td>1</td>\n",
       "      <td>INR</td>\n",
       "      <td>329.0</td>\n",
       "      <td>Maharashtra</td>\n",
       "      <td>410210.0</td>\n",
       "      <td>IN</td>\n",
       "      <td>True</td>\n",
       "    </tr>\n",
       "    <tr>\n",
       "      <th>3</th>\n",
       "      <td>04-30-22</td>\n",
       "      <td>Cancelled</td>\n",
       "      <td>Merchant</td>\n",
       "      <td>Amazon.in</td>\n",
       "      <td>Standard</td>\n",
       "      <td>Western Dress</td>\n",
       "      <td>L</td>\n",
       "      <td>Unknown</td>\n",
       "      <td>0</td>\n",
       "      <td>INR</td>\n",
       "      <td>0.0</td>\n",
       "      <td>Puducherry</td>\n",
       "      <td>605008.0</td>\n",
       "      <td>IN</td>\n",
       "      <td>False</td>\n",
       "    </tr>\n",
       "    <tr>\n",
       "      <th>4</th>\n",
       "      <td>04-30-22</td>\n",
       "      <td>Shipped</td>\n",
       "      <td>Amazon</td>\n",
       "      <td>Amazon.in</td>\n",
       "      <td>Expedited</td>\n",
       "      <td>Top</td>\n",
       "      <td>3XL</td>\n",
       "      <td>Shipped</td>\n",
       "      <td>1</td>\n",
       "      <td>INR</td>\n",
       "      <td>574.0</td>\n",
       "      <td>Tamil Nadu</td>\n",
       "      <td>600073.0</td>\n",
       "      <td>IN</td>\n",
       "      <td>False</td>\n",
       "    </tr>\n",
       "  </tbody>\n",
       "</table>\n",
       "</div>"
      ],
      "text/plain": [
       "       Date                        Status Fulfilment Sales Channel   \\\n",
       "0  04-30-22                     Cancelled   Merchant      Amazon.in   \n",
       "1  04-30-22  Shipped - Delivered to Buyer   Merchant      Amazon.in   \n",
       "2  04-30-22                       Shipped     Amazon      Amazon.in   \n",
       "3  04-30-22                     Cancelled   Merchant      Amazon.in   \n",
       "4  04-30-22                       Shipped     Amazon      Amazon.in   \n",
       "\n",
       "  Ship-Service-Level       Category Size Courier Status  Quantity Currency  \\\n",
       "0           Standard            Set    S        Unknown         0      INR   \n",
       "1           Standard          kurta  3XL        Shipped         1      INR   \n",
       "2          Expedited          kurta   XL        Shipped         1      INR   \n",
       "3           Standard  Western Dress    L        Unknown         0      INR   \n",
       "4          Expedited            Top  3XL        Shipped         1      INR   \n",
       "\n",
       "   Amount   Ship-State  Ship-Postal-Code Ship-Country    B2B  \n",
       "0     0.0  Maharashtra          400081.0           IN  False  \n",
       "1   406.0    Karnataka          560085.0           IN  False  \n",
       "2   329.0  Maharashtra          410210.0           IN   True  \n",
       "3     0.0   Puducherry          605008.0           IN  False  \n",
       "4   574.0   Tamil Nadu          600073.0           IN  False  "
      ]
     },
     "execution_count": 171,
     "metadata": {},
     "output_type": "execute_result"
    }
   ],
   "source": [
    "# Change column names to title case\n",
    "df.columns = df.columns.str.title()\n",
    "\n",
    "# Replace NaN values\n",
    "df['Amount'].fillna(0, inplace=True)\n",
    "df['Courier Status'].fillna('Unknown', inplace=True)\n",
    "\n",
    "# Verify changes\n",
    "df.isnull().sum()\n",
    "df.head()\n"
   ]
  },
  {
   "cell_type": "code",
   "execution_count": 175,
   "id": "bbd8b920-821d-4e5c-8bdc-8b265c727a6d",
   "metadata": {},
   "outputs": [
    {
     "data": {
      "text/plain": [
       "Date                   0\n",
       "Status                 0\n",
       "Fulfilment             0\n",
       "Sales Channel          0\n",
       "Ship-Service-Level     0\n",
       "Category               0\n",
       "Size                   0\n",
       "Courier Status         0\n",
       "Quantity               0\n",
       "Currency               0\n",
       "Amount                 0\n",
       "Ship-State            33\n",
       "Ship-Postal-Code      33\n",
       "Ship-Country          33\n",
       "B2B                    0\n",
       "dtype: int64"
      ]
     },
     "execution_count": 175,
     "metadata": {},
     "output_type": "execute_result"
    }
   ],
   "source": [
    "# Verify changes\n",
    "df.isnull().sum()"
   ]
  },
  {
   "cell_type": "markdown",
   "id": "38ca019c-6537-4f77-b08e-eec526fe0fc6",
   "metadata": {},
   "source": [
    "##### Replace NaN values in 'Ship-Country' with 'IN'"
   ]
  },
  {
   "cell_type": "code",
   "execution_count": 177,
   "id": "4b5571b4-134d-410f-8a8e-b24ab946d757",
   "metadata": {},
   "outputs": [],
   "source": [
    "df['Ship-Country'].fillna('IN', inplace=True)"
   ]
  },
  {
   "cell_type": "code",
   "execution_count": 181,
   "id": "7d577c85-238a-4e8f-adf1-44ef6d132382",
   "metadata": {},
   "outputs": [
    {
     "data": {
      "text/plain": [
       "Date                   0\n",
       "Status                 0\n",
       "Fulfilment             0\n",
       "Sales Channel          0\n",
       "Ship-Service-Level     0\n",
       "Category               0\n",
       "Size                   0\n",
       "Courier Status         0\n",
       "Quantity               0\n",
       "Currency               0\n",
       "Amount                 0\n",
       "Ship-State            33\n",
       "Ship-Postal-Code      33\n",
       "Ship-Country           0\n",
       "B2B                    0\n",
       "dtype: int64"
      ]
     },
     "execution_count": 181,
     "metadata": {},
     "output_type": "execute_result"
    }
   ],
   "source": [
    "# Verify changes\n",
    "df.isnull().sum()"
   ]
  },
  {
   "cell_type": "code",
   "execution_count": 187,
   "id": "ff74c512-6996-4663-88a3-e31004581b64",
   "metadata": {},
   "outputs": [
    {
     "data": {
      "text/plain": [
       "0                   Set\n",
       "1                 Kurta\n",
       "2                 Kurta\n",
       "3         Western Dress\n",
       "4                   Top\n",
       "              ...      \n",
       "128970            Kurta\n",
       "128971              Set\n",
       "128972    Western Dress\n",
       "128973              Set\n",
       "128974              Set\n",
       "Name: Category, Length: 128975, dtype: object"
      ]
     },
     "execution_count": 187,
     "metadata": {},
     "output_type": "execute_result"
    }
   ],
   "source": [
    "# Convert values in 'Category' column to title case\n",
    "df[\"Category\"] = df[\"Category\"].str.title()\n",
    "df[\"Category\"]"
   ]
  },
  {
   "cell_type": "markdown",
   "id": "8bbf19e3-ebe8-46fa-965a-8ae8eeab43d0",
   "metadata": {},
   "source": [
    "### Standardizing 'Ship-State'"
   ]
  },
  {
   "cell_type": "code",
   "execution_count": 196,
   "id": "cd3d2e68-b5ff-451f-9a37-4afe6c3a66bd",
   "metadata": {},
   "outputs": [
    {
     "data": {
      "text/plain": [
       "array(['Maharashtra', 'Karnataka', 'Puducherry', 'Tamil Nadu',\n",
       "       'Uttar Pradesh', 'Chandigarh', 'Telangana', 'Andhra Pradesh',\n",
       "       'Rajasthan', 'Delhi', 'Haryana', 'Assam', 'Jharkhand',\n",
       "       'Chhattisgarh', 'Odisha', 'Kerala', 'Madhya Pradesh',\n",
       "       'West Bengal', 'Nagaland', 'Gujarat', 'Uttarakhand', 'Bihar',\n",
       "       'Jammu & Kashmir', 'Punjab', 'Himachal Pradesh',\n",
       "       'Arunachal Pradesh', 'Manipur', 'Goa', 'Meghalaya', 'Tripura',\n",
       "       'Ladakh', 'Dadra And Nagar', 'Sikkim', nan, 'Andaman & Nicobar ',\n",
       "       'Rajshthan', 'Nl', 'Mizoram', 'New Delhi',\n",
       "       'Punjab/Mohali/Zirakpur', 'Rj', 'Orissa', 'Lakshadweep', 'Pb',\n",
       "       'Apo', 'Ar', 'Pondicherry', 'Rajsthan'], dtype=object)"
      ]
     },
     "execution_count": 196,
     "metadata": {},
     "output_type": "execute_result"
    }
   ],
   "source": [
    "# Display unique values in the 'Ship-State' column\n",
    "df['Ship-State'].unique()\n",
    "\n"
   ]
  },
  {
   "cell_type": "code",
   "execution_count": 202,
   "id": "b136a34e-38e0-4aea-a3ec-b8262b900edb",
   "metadata": {},
   "outputs": [
    {
     "name": "stdout",
     "output_type": "stream",
     "text": [
      "['Maharashtra' 'Karnataka' 'Puducherry' 'Tamil Nadu' 'Uttar Pradesh'\n",
      " 'Chandigarh' 'Telangana' 'Andhra Pradesh' 'Rajasthan' 'Delhi' 'Haryana'\n",
      " 'Assam' 'Jharkhand' 'Chhattisgarh' 'Odisha' 'Kerala' 'Madhya Pradesh'\n",
      " 'West Bengal' 'Nagaland' 'Gujarat' 'Uttarakhand' 'Bihar'\n",
      " 'Jammu & Kashmir' 'Punjab' 'Himachal Pradesh' 'Arunachal Pradesh'\n",
      " 'Manipur' 'Goa' 'Meghalaya' 'Tripura' 'Ladakh' 'Dadra And Nagar' 'Sikkim'\n",
      " <NA> 'Mizoram' 'New Delhi' 'Lakshadweep' 'Andaman & Nicobar']\n"
     ]
    }
   ],
   "source": [
    "# list of valid states\n",
    "valid_states = [\n",
    "    'Maharashtra', 'Karnataka', 'Puducherry', 'Tamil Nadu', 'Uttar Pradesh',\n",
    "    'Chandigarh', 'Telangana', 'Andhra Pradesh', 'Rajasthan', 'Delhi', 'Haryana',\n",
    "    'Assam', 'Jharkhand', 'Chhattisgarh', 'Odisha', 'Kerala', 'Madhya Pradesh',\n",
    "    'West Bengal', 'Nagaland', 'Gujarat', 'Uttarakhand', 'Bihar', 'Jammu & Kashmir',\n",
    "    'Punjab', 'Himachal Pradesh', 'Arunachal Pradesh', 'Manipur', 'Goa', 'Meghalaya',\n",
    "    'Tripura', 'Ladakh', 'Dadra And Nagar', 'Sikkim', 'Andaman & Nicobar', 'Mizoram',\n",
    "    'New Delhi', 'Lakshadweep'\n",
    "]\n",
    "\n",
    "# dictionary for corrections\n",
    "corrections = {\n",
    "    'Rajshthan': 'Rajasthan',\n",
    "    'Rajsthan': 'Rajasthan',\n",
    "    'Nl': 'Nagaland',\n",
    "    'Orissa': 'Odisha',\n",
    "    'Pondicherry': 'Puducherry',\n",
    "    'Pb': 'Punjab',\n",
    "    'Apo': 'Andaman & Nicobar',\n",
    "    'Ar': 'Arunachal Pradesh',\n",
    "    'Rj': 'Rajasthan',\n",
    "    'Rajsthan': 'Rajasthan',\n",
    "    'Punjab/Mohali/Zirakpur': 'Punjab'\n",
    "}\n",
    "\n",
    "# Replace incorrect names with correct ones\n",
    "df['Ship-State'] = df['Ship-State'].replace(corrections)\n",
    "\n",
    "# Remove or replace invalid entries\n",
    "df['Ship-State'] = df['Ship-State'].apply(lambda x: x if x in valid_states else pd.NA)\n",
    "\n",
    "# Check the cleaned values\n",
    "print(df['Ship-State'].unique())\n"
   ]
  },
  {
   "cell_type": "code",
   "execution_count": null,
   "id": "bb1498a7-f528-466c-a1b4-ec171ef0437b",
   "metadata": {},
   "outputs": [],
   "source": []
  },
  {
   "cell_type": "code",
   "execution_count": 205,
   "id": "e1b68f17-f44c-4688-89c1-96b7a0917b72",
   "metadata": {},
   "outputs": [],
   "source": [
    "# Extracting DataFrame to a CSV file\n",
    "df.to_csv('Amzn_sales_data.csv', index=False)"
   ]
  },
  {
   "cell_type": "code",
   "execution_count": null,
   "id": "fc24304c-393c-412d-9395-1e8f4bad8b30",
   "metadata": {},
   "outputs": [],
   "source": []
  }
 ],
 "metadata": {
  "kernelspec": {
   "display_name": "Python 3 (ipykernel)",
   "language": "python",
   "name": "python3"
  },
  "language_info": {
   "codemirror_mode": {
    "name": "ipython",
    "version": 3
   },
   "file_extension": ".py",
   "mimetype": "text/x-python",
   "name": "python",
   "nbconvert_exporter": "python",
   "pygments_lexer": "ipython3",
   "version": "3.11.5"
  }
 },
 "nbformat": 4,
 "nbformat_minor": 5
}
